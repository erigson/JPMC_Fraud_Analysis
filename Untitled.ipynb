{
 "cells": [
  {
   "cell_type": "code",
   "execution_count": 1,
   "id": "63c95ff8",
   "metadata": {},
   "outputs": [],
   "source": [
    "import pandas as pd\n",
    "import numpy as np\n",
    "import os \n",
    "import math\n",
    "import matplotlib.pyplot as plt\n",
    "import seaborn as sns"
   ]
  },
  {
   "cell_type": "code",
   "execution_count": 2,
   "id": "3d52f820",
   "metadata": {},
   "outputs": [],
   "source": [
    "filename = r\"C:\\Users\\thema\\OneDrive\\Projects\\JPMC_Fraud_Analysis\\data\\subset.csv\"\n",
    "\n",
    "df=pd.read_csv(filename)"
   ]
  },
  {
   "cell_type": "code",
   "execution_count": 3,
   "id": "ee798131",
   "metadata": {},
   "outputs": [
    {
     "data": {
      "text/plain": [
       "(100000, 21)"
      ]
     },
     "execution_count": 3,
     "metadata": {},
     "output_type": "execute_result"
    }
   ],
   "source": [
    "df.shape"
   ]
  },
  {
   "cell_type": "code",
   "execution_count": 4,
   "id": "f964b1cf",
   "metadata": {},
   "outputs": [
    {
     "data": {
      "text/html": [
       "<div>\n",
       "<style scoped>\n",
       "    .dataframe tbody tr th:only-of-type {\n",
       "        vertical-align: middle;\n",
       "    }\n",
       "\n",
       "    .dataframe tbody tr th {\n",
       "        vertical-align: top;\n",
       "    }\n",
       "\n",
       "    .dataframe thead th {\n",
       "        text-align: right;\n",
       "    }\n",
       "</style>\n",
       "<table border=\"1\" class=\"dataframe\">\n",
       "  <thead>\n",
       "    <tr style=\"text-align: right;\">\n",
       "      <th></th>\n",
       "      <th>Unnamed: 0</th>\n",
       "      <th>trans_date_trans_time</th>\n",
       "      <th>cc_num</th>\n",
       "      <th>merchant</th>\n",
       "      <th>category</th>\n",
       "      <th>amt</th>\n",
       "      <th>gender</th>\n",
       "      <th>street</th>\n",
       "      <th>city</th>\n",
       "      <th>state</th>\n",
       "      <th>...</th>\n",
       "      <th>lat</th>\n",
       "      <th>long</th>\n",
       "      <th>city_pop</th>\n",
       "      <th>job</th>\n",
       "      <th>dob</th>\n",
       "      <th>trans_num</th>\n",
       "      <th>unix_time</th>\n",
       "      <th>merch_lat</th>\n",
       "      <th>merch_long</th>\n",
       "      <th>is_fraud</th>\n",
       "    </tr>\n",
       "  </thead>\n",
       "  <tbody>\n",
       "    <tr>\n",
       "      <th>0</th>\n",
       "      <td>442620</td>\n",
       "      <td>2019-07-15 21:09:09</td>\n",
       "      <td>3543591270174051</td>\n",
       "      <td>fraud_Windler, Goodwin and Kovacek</td>\n",
       "      <td>home</td>\n",
       "      <td>183.01</td>\n",
       "      <td>F</td>\n",
       "      <td>6911 Nicholas Keys Apt. 237</td>\n",
       "      <td>Armagh</td>\n",
       "      <td>PA</td>\n",
       "      <td>...</td>\n",
       "      <td>40.4603</td>\n",
       "      <td>-79.0097</td>\n",
       "      <td>922</td>\n",
       "      <td>Early years teacher</td>\n",
       "      <td>1972-10-04</td>\n",
       "      <td>56063f52a410400d2117bb5c1ed3598f</td>\n",
       "      <td>1342386549</td>\n",
       "      <td>41.112679</td>\n",
       "      <td>-78.305566</td>\n",
       "      <td>0</td>\n",
       "    </tr>\n",
       "    <tr>\n",
       "      <th>1</th>\n",
       "      <td>460189</td>\n",
       "      <td>2019-07-22 09:15:05</td>\n",
       "      <td>6517217825320610</td>\n",
       "      <td>fraud_Ledner-Pfannerstill</td>\n",
       "      <td>gas_transport</td>\n",
       "      <td>63.69</td>\n",
       "      <td>M</td>\n",
       "      <td>26975 Richardson Mills Apt. 402</td>\n",
       "      <td>Sontag</td>\n",
       "      <td>MS</td>\n",
       "      <td>...</td>\n",
       "      <td>31.6453</td>\n",
       "      <td>-90.1801</td>\n",
       "      <td>1196</td>\n",
       "      <td>Librarian, academic</td>\n",
       "      <td>1958-06-11</td>\n",
       "      <td>76f4fb5f48de63e5fa070b69b295f610</td>\n",
       "      <td>1342948505</td>\n",
       "      <td>32.080924</td>\n",
       "      <td>-90.981001</td>\n",
       "      <td>0</td>\n",
       "    </tr>\n",
       "    <tr>\n",
       "      <th>2</th>\n",
       "      <td>11432</td>\n",
       "      <td>2019-01-07 18:28:09</td>\n",
       "      <td>3567697931646329</td>\n",
       "      <td>fraud_Stark-Batz</td>\n",
       "      <td>entertainment</td>\n",
       "      <td>188.42</td>\n",
       "      <td>M</td>\n",
       "      <td>428 Morgan River</td>\n",
       "      <td>Hudson</td>\n",
       "      <td>NY</td>\n",
       "      <td>...</td>\n",
       "      <td>42.2470</td>\n",
       "      <td>-73.7552</td>\n",
       "      <td>17867</td>\n",
       "      <td>Travel agency manager</td>\n",
       "      <td>1998-07-29</td>\n",
       "      <td>e447b13ff1d3ef6cb47831e78c395905</td>\n",
       "      <td>1325960889</td>\n",
       "      <td>42.577066</td>\n",
       "      <td>-73.986067</td>\n",
       "      <td>0</td>\n",
       "    </tr>\n",
       "    <tr>\n",
       "      <th>3</th>\n",
       "      <td>542664</td>\n",
       "      <td>2019-08-20 08:24:15</td>\n",
       "      <td>213141712584544</td>\n",
       "      <td>fraud_McCullough LLC</td>\n",
       "      <td>misc_pos</td>\n",
       "      <td>1.14</td>\n",
       "      <td>F</td>\n",
       "      <td>742 Oneill Shore</td>\n",
       "      <td>Florence</td>\n",
       "      <td>MS</td>\n",
       "      <td>...</td>\n",
       "      <td>32.1530</td>\n",
       "      <td>-90.1217</td>\n",
       "      <td>19685</td>\n",
       "      <td>Fine artist</td>\n",
       "      <td>1984-12-24</td>\n",
       "      <td>11d82fca7c72ddc9e7af1e7e81f6a7fd</td>\n",
       "      <td>1345451055</td>\n",
       "      <td>32.330948</td>\n",
       "      <td>-89.593020</td>\n",
       "      <td>0</td>\n",
       "    </tr>\n",
       "    <tr>\n",
       "      <th>4</th>\n",
       "      <td>763922</td>\n",
       "      <td>2019-11-23 14:07:47</td>\n",
       "      <td>30518206766474</td>\n",
       "      <td>fraud_McKenzie-Huels</td>\n",
       "      <td>food_dining</td>\n",
       "      <td>13.75</td>\n",
       "      <td>F</td>\n",
       "      <td>471 Marquez Prairie Suite 680</td>\n",
       "      <td>Matthews</td>\n",
       "      <td>MO</td>\n",
       "      <td>...</td>\n",
       "      <td>36.7154</td>\n",
       "      <td>-89.6287</td>\n",
       "      <td>1019</td>\n",
       "      <td>Aeronautical engineer</td>\n",
       "      <td>1979-01-26</td>\n",
       "      <td>4a66773f023c5a4703d9ba38ddf98c65</td>\n",
       "      <td>1353679667</td>\n",
       "      <td>36.848995</td>\n",
       "      <td>-88.640230</td>\n",
       "      <td>0</td>\n",
       "    </tr>\n",
       "  </tbody>\n",
       "</table>\n",
       "<p>5 rows × 21 columns</p>\n",
       "</div>"
      ],
      "text/plain": [
       "   Unnamed: 0 trans_date_trans_time            cc_num  \\\n",
       "0      442620   2019-07-15 21:09:09  3543591270174051   \n",
       "1      460189   2019-07-22 09:15:05  6517217825320610   \n",
       "2       11432   2019-01-07 18:28:09  3567697931646329   \n",
       "3      542664   2019-08-20 08:24:15   213141712584544   \n",
       "4      763922   2019-11-23 14:07:47    30518206766474   \n",
       "\n",
       "                             merchant       category     amt gender  \\\n",
       "0  fraud_Windler, Goodwin and Kovacek           home  183.01      F   \n",
       "1           fraud_Ledner-Pfannerstill  gas_transport   63.69      M   \n",
       "2                    fraud_Stark-Batz  entertainment  188.42      M   \n",
       "3                fraud_McCullough LLC       misc_pos    1.14      F   \n",
       "4                fraud_McKenzie-Huels    food_dining   13.75      F   \n",
       "\n",
       "                            street      city state  ...      lat     long  \\\n",
       "0      6911 Nicholas Keys Apt. 237    Armagh    PA  ...  40.4603 -79.0097   \n",
       "1  26975 Richardson Mills Apt. 402    Sontag    MS  ...  31.6453 -90.1801   \n",
       "2                 428 Morgan River    Hudson    NY  ...  42.2470 -73.7552   \n",
       "3                 742 Oneill Shore  Florence    MS  ...  32.1530 -90.1217   \n",
       "4    471 Marquez Prairie Suite 680  Matthews    MO  ...  36.7154 -89.6287   \n",
       "\n",
       "   city_pop                    job         dob  \\\n",
       "0       922    Early years teacher  1972-10-04   \n",
       "1      1196    Librarian, academic  1958-06-11   \n",
       "2     17867  Travel agency manager  1998-07-29   \n",
       "3     19685            Fine artist  1984-12-24   \n",
       "4      1019  Aeronautical engineer  1979-01-26   \n",
       "\n",
       "                          trans_num   unix_time  merch_lat  merch_long  \\\n",
       "0  56063f52a410400d2117bb5c1ed3598f  1342386549  41.112679  -78.305566   \n",
       "1  76f4fb5f48de63e5fa070b69b295f610  1342948505  32.080924  -90.981001   \n",
       "2  e447b13ff1d3ef6cb47831e78c395905  1325960889  42.577066  -73.986067   \n",
       "3  11d82fca7c72ddc9e7af1e7e81f6a7fd  1345451055  32.330948  -89.593020   \n",
       "4  4a66773f023c5a4703d9ba38ddf98c65  1353679667  36.848995  -88.640230   \n",
       "\n",
       "   is_fraud  \n",
       "0         0  \n",
       "1         0  \n",
       "2         0  \n",
       "3         0  \n",
       "4         0  \n",
       "\n",
       "[5 rows x 21 columns]"
      ]
     },
     "execution_count": 4,
     "metadata": {},
     "output_type": "execute_result"
    }
   ],
   "source": [
    "df.head()"
   ]
  },
  {
   "cell_type": "code",
   "execution_count": 9,
   "id": "51debec1",
   "metadata": {},
   "outputs": [],
   "source": [
    "df.drop(columns = 'Unnamed: 0', inplace = True)"
   ]
  },
  {
   "cell_type": "code",
   "execution_count": 13,
   "id": "c677e4c5",
   "metadata": {},
   "outputs": [
    {
     "data": {
      "text/plain": [
       "trans_date_trans_time    0\n",
       "cc_num                   0\n",
       "merchant                 0\n",
       "category                 0\n",
       "amt                      0\n",
       "gender                   0\n",
       "street                   0\n",
       "city                     0\n",
       "state                    0\n",
       "zip                      0\n",
       "lat                      0\n",
       "long                     0\n",
       "city_pop                 0\n",
       "job                      0\n",
       "dob                      0\n",
       "trans_num                0\n",
       "unix_time                0\n",
       "merch_lat                0\n",
       "merch_long               0\n",
       "is_fraud                 0\n",
       "dtype: int64"
      ]
     },
     "execution_count": 13,
     "metadata": {},
     "output_type": "execute_result"
    }
   ],
   "source": [
    "df.isnull().sum()"
   ]
  },
  {
   "cell_type": "code",
   "execution_count": 16,
   "id": "efbca7e0",
   "metadata": {},
   "outputs": [
    {
     "data": {
      "text/plain": [
       "0"
      ]
     },
     "execution_count": 16,
     "metadata": {},
     "output_type": "execute_result"
    }
   ],
   "source": [
    "duplicates = df.duplicated().sum()\n",
    "duplicates"
   ]
  },
  {
   "cell_type": "code",
   "execution_count": 10,
   "id": "38bdc226",
   "metadata": {},
   "outputs": [
    {
     "data": {
      "text/plain": [
       "Index(['trans_date_trans_time', 'cc_num', 'merchant', 'category', 'amt',\n",
       "       'gender', 'street', 'city', 'state', 'zip', 'lat', 'long', 'city_pop',\n",
       "       'job', 'dob', 'trans_num', 'unix_time', 'merch_lat', 'merch_long',\n",
       "       'is_fraud'],\n",
       "      dtype='object')"
      ]
     },
     "execution_count": 10,
     "metadata": {},
     "output_type": "execute_result"
    }
   ],
   "source": [
    "df.columns"
   ]
  },
  {
   "cell_type": "code",
   "execution_count": null,
   "id": "3f10ee93",
   "metadata": {},
   "outputs": [],
   "source": []
  },
  {
   "cell_type": "code",
   "execution_count": 11,
   "id": "5d9da122",
   "metadata": {},
   "outputs": [
    {
     "data": {
      "text/plain": [
       "trans_date_trans_time     object\n",
       "cc_num                     int64\n",
       "merchant                  object\n",
       "category                  object\n",
       "amt                      float64\n",
       "gender                    object\n",
       "street                    object\n",
       "city                      object\n",
       "state                     object\n",
       "zip                        int64\n",
       "lat                      float64\n",
       "long                     float64\n",
       "city_pop                   int64\n",
       "job                       object\n",
       "dob                       object\n",
       "trans_num                 object\n",
       "unix_time                  int64\n",
       "merch_lat                float64\n",
       "merch_long               float64\n",
       "is_fraud                   int64\n",
       "dtype: object"
      ]
     },
     "execution_count": 11,
     "metadata": {},
     "output_type": "execute_result"
    }
   ],
   "source": [
    "df.dtypes"
   ]
  },
  {
   "cell_type": "markdown",
   "id": "143b0935",
   "metadata": {},
   "source": [
    "* datetime\n",
    "* age\n",
    "* gender\n",
    "* street\n",
    "* location\n",
    "* transaction category\n",
    "* "
   ]
  }
 ],
 "metadata": {
  "kernelspec": {
   "display_name": "Python 3 (ipykernel)",
   "language": "python",
   "name": "python3"
  },
  "language_info": {
   "codemirror_mode": {
    "name": "ipython",
    "version": 3
   },
   "file_extension": ".py",
   "mimetype": "text/x-python",
   "name": "python",
   "nbconvert_exporter": "python",
   "pygments_lexer": "ipython3",
   "version": "3.11.5"
  }
 },
 "nbformat": 4,
 "nbformat_minor": 5
}
